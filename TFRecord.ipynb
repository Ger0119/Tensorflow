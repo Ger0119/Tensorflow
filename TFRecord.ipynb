{
 "cells": [
  {
   "cell_type": "code",
   "execution_count": 1,
   "id": "e371144f-31b1-435b-a9c4-854c92114f80",
   "metadata": {},
   "outputs": [],
   "source": [
    "import tensorflow as tf\n",
    "import numpy as np"
   ]
  },
  {
   "cell_type": "markdown",
   "id": "f60b7819-4013-475d-864e-010d57a19697",
   "metadata": {
    "tags": []
   },
   "source": [
    "# TFRecord"
   ]
  },
  {
   "cell_type": "markdown",
   "id": "fd0b7a46-c379-4ea3-8a77-604660f1d01b",
   "metadata": {},
   "source": [
    "## 配置函数"
   ]
  },
  {
   "cell_type": "code",
   "execution_count": 2,
   "id": "25d9ad61-f50e-4662-ba53-9383115091f2",
   "metadata": {},
   "outputs": [],
   "source": [
    "def _bytes_feature(value):\n",
    "    \"\"\"Returns a bytes_list from a string / byte.\"\"\"\n",
    "    if isinstance(value, type(tf.constant(0))):\n",
    "        value = value.numpy() # BytesList won't unpack a string from an EagerTensor.\n",
    "    return tf.train.Feature(bytes_list=tf.train.BytesList(value=[value]))\n",
    "\n",
    "def _float_feature(value):\n",
    "    \"\"\"Returns a float_list from a float / double.\"\"\"\n",
    "    return tf.train.Feature(float_list=tf.train.FloatList(value=[value]))\n",
    "\n",
    "def _int64_feature(value):\n",
    "    \"\"\"Returns an int64_list from a bool / enum / int / uint.\"\"\"\n",
    "    return tf.train.Feature(int64_list=tf.train.Int64List(value=[value]))"
   ]
  },
  {
   "cell_type": "code",
   "execution_count": 3,
   "id": "ba62d6dd-1c56-4359-adbf-c25b24484ef3",
   "metadata": {},
   "outputs": [],
   "source": [
    "def serialize_example(num1,num2,string,ndarray,image):\n",
    "    \"\"\"\n",
    "    Creates a tf.Example message ready to be written to a file.\n",
    "    \"\"\"\n",
    "    # Create a dictionary mapping the feature name to the tf.Example-compatible\n",
    "    # data type.\n",
    "    feature = {\n",
    "      'Int': _int64_feature(num1),\n",
    "      'Float': _float_feature(num2),\n",
    "      'String': _bytes_feature(string.encode()),\n",
    "      'Ndarray': _bytes_feature(ndarray.tobytes()),\n",
    "      'Image_raw': _bytes_feature(image),\n",
    "    }\n",
    "\n",
    "    # Create a Features message using tf.train.Example.\n",
    "\n",
    "    example_proto = tf.train.Example(features=tf.train.Features(feature=feature))\n",
    "    return example_proto.SerializeToString()"
   ]
  },
  {
   "cell_type": "markdown",
   "id": "2c71163c-526b-4624-b3f9-771375c9ca58",
   "metadata": {},
   "source": [
    "## 创建数据"
   ]
  },
  {
   "cell_type": "code",
   "execution_count": 4,
   "id": "3dd1d74b-ee8c-483f-b40b-d999f5f570d4",
   "metadata": {},
   "outputs": [],
   "source": [
    "from captcha.image import ImageCaptcha\n",
    "img = ImageCaptcha(width=28,height=28)\n",
    "img.write(\"z\",\"test.png\")"
   ]
  },
  {
   "cell_type": "code",
   "execution_count": 5,
   "id": "3d288be2-e6b1-4c84-81a5-5522442dc40d",
   "metadata": {},
   "outputs": [
    {
     "data": {
      "image/png": "[encoded data removed]",
      "text/plain": [
       "<PIL.PngImagePlugin.PngImageFile image mode=RGB size=28x28 at 0x18528DE8760>"
      ]
     },
     "execution_count": 5,
     "metadata": {},
     "output_type": "execute_result"
    }
   ],
   "source": [
    "from PIL import Image\n",
    "Image.open(\"test.png\")"
   ]
  },
  {
   "cell_type": "code",
   "execution_count": 6,
   "id": "5fadb1e9-14c0-48bc-a702-68e2c7d8e6f5",
   "metadata": {},
   "outputs": [
    {
     "data": {
      "text/plain": [
       "array([[1, 9, 9, 8],\n",
       "       [5, 2, 5, 8]])"
      ]
     },
     "execution_count": 6,
     "metadata": {},
     "output_type": "execute_result"
    }
   ],
   "source": [
    "npa = np.random.randint(1,10,(2,4))  # 注意dtype\n",
    "npa"
   ]
  },
  {
   "cell_type": "code",
   "execution_count": 7,
   "id": "095ad385-4de9-4e3c-bab1-8481c32c857f",
   "metadata": {
    "scrolled": true,
    "tags": []
   },
   "outputs": [
    {
     "data": {
      "text/plain": [
       "features {\n",
       "  feature {\n",
       "    key: \"Float\"\n",
       "    value {\n",
       "      float_list {\n",
       "        value: 12.36400032043457\n",
       "      }\n",
       "    }\n",
       "  }\n",
       "  feature {\n",
       "    key: \"Image_raw\"\n",
       "    value {\n",
       "      bytes_list {\n",
       "        value: \"\\211PNG\\r\\n\\032\\n\\000\\000\\000\\rIHDR\\000\\000\\000\\034\\000\\000\\000\\034\\010\\002\\000\\000\\000\\375oH\\303\\000\\000\\006\\\\IDATx\\234mV\\337o\\024\\347\\025=\\337\\217\\231ov\\3273\\273\\330^c/;f\\211\\035(6$)\\251T\\340\\001\\032\\\"RWU\\243\\244*\\364\\311\\352\\023o}\\350?\\320?\\242\\317\\311C$\\336@\\252T!\\245 \\267M\\325J\\320>PR\\300\\242\\300\\202\\rk\\257\\261w\\355\\365\\314\\356z\\347\\347w\\3730\\216qH\\256F\\232\\031it\\276s\\356=\\347j\\330\\347\\177\\370\\020\\373\\352\\322\\374\\002\\000)\\331\\255\\033\\277m\\277z\\300\\271A\\000\\203\\326 \\322\\321\\370\\324\\317[/\\376V\\236\\370a\\263q\\333\\3409p\\304b{\\356g_\\224GN\\244\\232\\366@$\\000\\333q\\001(\\345\\234|\\377J\\024\\372B\\232\\233\\255\\'\\2461$\\244\\245u\\302\\030\\010Zp\\236;P\\335j\\336\\026\\322j\\277\\372\\257i\\024H\\247BZc\\345\\363\\202\\311T\\'\\200\\010C\\277\\3537\\276\\272\\371;yi~\\241\\331\\270\\335\\\\\\271sdz\\2560TIu\\322\\363\\232\\313\\365\\277z\\235%\\\"\\002H\\310\\274e9$R\\035\\247\\244\\3434\\211I\\'\\214K\\200\\t\\221\\037\\035{\\3270\\034\\306D\\020\\370]\\277\\361\\340\\356g\\273LG\\306N\\330E\\027\\000\\220z\\336\\312\\243\\207\\327{\\235z\\024vI\\'B\\232V\\356@\\305=m\\345\\234\\307\\213\\177d\\220B0\\r\\256u\\n\\306\\270!\\r3\\247,3S\\275\\\\\\277\\231=\\360\\354\\026\\206\\376\\343\\305k\\355\\215\\305\\366\\306C\\257S\\337\\351o\\246i\\304\\270T\\226\\343\\326\\316\\037~\\353\\'\\376\\366\\212S\\234\\314\\027\\312c\\343\\357\\t\\251\\030\\2405\\030E\\266\\335\\216\\242 \\003\\251M\\317\\331E\\367\\322\\374\\202\\004\\220\\321\\216\\242nk\\375\\001iMI\\3008@``\\007\\206\\217V\\335\\323\\2265:u\\364\\027\\317\\236\\3348\\374\\326\\205\\365\\265\\257\\001\\002c\\2223C\\232\\315\\225\\315\\261\\203\\006\\021\\224r\\340\\270\\'O]\\331\\225\\377x\\361Z\\024\\371q\\334\\023\\302\\334\\351\\267\\2104c\\3140\\207\\362\\271\\321\\221\\341\\243\\371\\302A+?\\312\\27113\\363\\253\\325\\227\\267\\275\\366\\023\\322)\\030\\27008\\267\\'ksZ[\\002\\310F\\375Z~\\327kD<tg>\\240\\234\\002\\007@\\000L\\313~{\\346Sw\\352\\202\\220y\\002\\224\\262\\223\\240\\3475\\356\\005\\301v\\252c\\000\\234\\033\\303\\303\\307s\\271\\021\\363\\033\\254\\275\\342\\327\\257^d\\000\\212N\\243\\030\\364LMZJi\\345\\207\\312#\\345c\\303\\345\\037\\024\\354\\2124\\362 \\204\\241\\267\\323_\\353D\\2554\\t\\030\\343\\014\\014\\304\\2050\\2700\\361\\235\\342\\031\\355\\231\\343\\277\\336\\032Js\\352\\204i\\332\\234\\313C\\325\\263G\\217\\3772\\227\\037\\331\\373\\216\\355\\014V\\227\\377\\245\\203@3\\006\\2001a\\345J\\334,\\3514\\016C?\\014\\3757AO\\236\\272Rr\\246.\\362O\\334\\261\\032\\000\\313*9\\305I\\2478\\251T\\021`\\000@\\240~\\377`\\213\\321`\\'\\313\\r\\227F\\3019T\\036;\\322\\353\\267\\357\\337\\375\\254\\3537\\366\\343\\362K\\363\\013CE\\327\\246\\2421\\010\\266\\352\\377P\\312\\312\\333\\343\\345\\203\\263\\214\\231\\364:x\\244Tb\\252D\\232q\\366n*\\'o\\333i\\032=\\272\\177\\265\\3535\\366\\034\\372-\\371\\000\\226\\353\\267\\030c\\312*\\315\\2743\\257\\254r\\022\\017\\366t1\\206\\310\\214\\223\\331\\227\\251$\\02025cc?Zy\\361\\317\\014\\245R=\\023\\205\\336\\036\\331]\\363Sf]\\307=\\371\\376\\225!\\307%\\300\\367\\033\\017\\376\\263\\253+\\014\\375^\\322y\\272L\\221H\\263\\226&I\\250\\323d\\262\\366\\241\\355\\270\\307f/g\\276\\354\\371\\215^o\\3655\\250R\\216\\355\\270\\'O]\\311\\226K\\026\\207\\375\\272\\236?\\275\\033\\0062\\n\\345.\\007\\242\\366\\306C\\273\\370\\032\\261\\3535\\226\\3527\\223\\270\\367\\345\\255\\313\\034@\\306E)\\'\\273\\260/\\305\\265\\3519\\000D\\230\\250\\236y\\335`2\\010\\306D\\365\\234\\251\\212\\246*6W\\356\\000\\000\\203{\\370\\\\\\257\\267fj\\233g\\020]\\277\\321n-\\266[\\213]\\277\\021\\205^mz\\316\\264\\212\\307f/g\\307p\\3169\\030c<\\203\\324$I\\274m\\230\\243\\231&\\333q\\303\\320\\237\\254]\\320:\\334X\\275\\267\\336\\\\\\224\\000*\\356\\231\\245}\\343\\253\\270g\\243\\300\\253T\\317,=\\273ud\\352\\247Q\\350\\307Qw\\371\\351\\237\\302A\\207\\210\\030@ZG\\241\\337\\365\\033\\234\\3574\\033\\267\\243\\320\\037\\035\\233\\335\\356\\324\\243`\\264\\365\\352\\276a\\024\\230\\267\\245\\303\\320\\317f\\027\\005^\\030\\372\\231\\366\\254!\\246Ut\\234j\\277\\267\\326\\365\\032\\276\\327Hu\\002\\220a\\016\\333EW\\251R.W\\250T\\317\\022d\\024\\372q\\334\\335\\\\\\277\\267\\276v/\\212wd6%\\245\\0343\\364\\273\\300\\343\\305k\\331\\031\\246*\\00282=\\307\\271\\231\\3536;\\235\\227\\251N\\211\\3100\\363y\\247\\344\\326\\316@\\353\\254\\233\\246*\\275x\\371t\\307\\273\\023\\016\\332Z\\247\\214 \\367\\2336\\343\\250\\224sl\\366\\362fk\\2616=\\347\\024]\\\"\\335\\\\{\\022\\'\\t\\003\\300 \\204\\252L\\234\\316\\345\\017\\324\\037\\335`\\214\\275x\\2760^=\\347\\265\\357\\370^\\235#\\0061\\200}\\013\\2646=\\267\\\\\\277Y\\233\\236S\\312\\251\\270g\\263\\003z\\335f\\232l&\\261O )s\\266sh\\310\\236Xk\\374\\2331\\226&\\301\\370\\304{\\215\\372\\227\\341\\240\\tJv3\\235\\355\\323=?\\355mY\\265o\\2331\\226\\n\\212\\004\\243\\004$\\244\\032-\\3178\\305\\352\\220}\\350\\305\\322_\\016\\271?n\\255|\\335\\3575\\243\\320g \\002L\\323N\\342>\\277~\\365\\342\\336:\\330o\\325}\\256\\204\\340\\000\\245 \\342L\\030fa\\310\\251\\224\\016\\0349\\361\\356o\\244\\260\\302\\244?\\030l\\201R\\020\\244\\314\\345\\013\\345\\217>\\376\\234\\357\\267\\372w+M\\203(\\362\\372\\203n\\034G\\2445\\240\\001\\r\\\"B\\032\\206\\235\\215W\\367[\\353\\0174R0\\016\\220\\340\\322\\255\\235\\037.\\037\\226{\\261\\371\\236b\\340i\\274\\275\\366\\250\\327\\252\\263\\224\\210\\261\\224(%\\212\\223^\\020x\\213\\367\\277\\350oo\\004\\003_\\'\\t\\027\\206\\251\\354\\222s\\270T\\252\\001\\220\\227\\346\\027\\262\\236~\\037&\\\"\\035\\331}\\344\\006z\\033\\021\\2014\\020\\306;\\275\\336\\253\\345\\347\\177\\336\\336\\\\\\016\\007>\\203`\\214+\\345\\224\\017\\276st\\346\\223|a<\\211I\\2761\\2267\\272\\231+\\214\\256\\216\\253\\265\\372*\\245\\\\p\\261\\335Y:\\226\\037\\376\\337\\223\\277\\257?\\373\\n\\334`\\214\\203@\\224\\n\\360\\263\\037\\374^\\177\\363\\347\\363\\177\\202\\007i\\010\\340\\222%\\264\\000\\000\\000\\000IEND\\256B`\\202\"\n",
       "      }\n",
       "    }\n",
       "  }\n",
       "  feature {\n",
       "    key: \"Int\"\n",
       "    value {\n",
       "      int64_list {\n",
       "        value: 99\n",
       "      }\n",
       "    }\n",
       "  }\n",
       "  feature {\n",
       "    key: \"Ndarray\"\n",
       "    value {\n",
       "      bytes_list {\n",
       "        value: \"\\001\\000\\000\\000\\t\\000\\000\\000\\t\\000\\000\\000\\010\\000\\000\\000\\005\\000\\000\\000\\002\\000\\000\\000\\005\\000\\000\\000\\010\\000\\000\\000\"\n",
       "      }\n",
       "    }\n",
       "  }\n",
       "  feature {\n",
       "    key: \"String\"\n",
       "    value {\n",
       "      bytes_list {\n",
       "        value: \"test\"\n",
       "      }\n",
       "    }\n",
       "  }\n",
       "}"
      ]
     },
     "execution_count": 7,
     "metadata": {},
     "output_type": "execute_result"
    }
   ],
   "source": [
    "serialized_example = serialize_example(99,12.364,\"test\",npa,open(\"test.png\",\"rb\").read())\n",
    "example_proto = tf.train.Example.FromString(serialized_example)\n",
    "example_proto"
   ]
  },
  {
   "cell_type": "markdown",
   "id": "8978853a-14a9-4d57-838e-a0127d38b936",
   "metadata": {},
   "source": [
    "## 写入数据"
   ]
  },
  {
   "cell_type": "code",
   "execution_count": 8,
   "id": "21a3da2d-f4e3-46ea-8d11-25e8aa1e4d1b",
   "metadata": {},
   "outputs": [],
   "source": [
    "with tf.io.TFRecordWriter(\"test.tfrecord\") as writer:\n",
    "    for i in range(1):\n",
    "        writer.write(serialized_example)"
   ]
  },
  {
   "cell_type": "code",
   "execution_count": 9,
   "id": "940e1d1d-42c6-451f-9f8d-a6844e659b6a",
   "metadata": {},
   "outputs": [],
   "source": [
    "# Create a description of the features.\n",
    "feature_description = {\n",
    "    'Int': tf.io.FixedLenFeature([], tf.int64, default_value=0),\n",
    "    'Float': tf.io.FixedLenFeature([], tf.float32, default_value=0.),\n",
    "    'String': tf.io.FixedLenFeature([], tf.string, default_value=''),\n",
    "    'Ndarray': tf.io.FixedLenFeature([], tf.string),\n",
    "    'Image_raw': tf.io.FixedLenFeature([], tf.string),\n",
    "}\n",
    "\n",
    "def _parse_function(example_proto):\n",
    "  # Parse the input `tf.Example` proto using the dictionary above.\n",
    "  return tf.io.parse_single_example(example_proto, feature_description)"
   ]
  },
  {
   "cell_type": "markdown",
   "id": "886780ef-88e3-4e4c-8c75-fd3f002c6cb9",
   "metadata": {},
   "source": [
    "## 读取数据"
   ]
  },
  {
   "cell_type": "code",
   "execution_count": 10,
   "id": "e7c47a48-ca62-49a1-8d4b-6ff03bc2851c",
   "metadata": {},
   "outputs": [
    {
     "data": {
      "text/plain": [
       "<TFRecordDatasetV2 shapes: (), types: tf.string>"
      ]
     },
     "execution_count": 10,
     "metadata": {},
     "output_type": "execute_result"
    }
   ],
   "source": [
    "raw_dataset = tf.data.TFRecordDataset(\"test.tfrecord\")\n",
    "raw_dataset"
   ]
  },
  {
   "cell_type": "code",
   "execution_count": 11,
   "id": "baa65508-cedb-4a2b-9f09-9b6a8592197e",
   "metadata": {},
   "outputs": [],
   "source": [
    "parsed_dataset = raw_dataset.map(_parse_function)"
   ]
  },
  {
   "cell_type": "code",
   "execution_count": 12,
   "id": "1982ad85-cedf-496a-96a0-fd088a7b1c1e",
   "metadata": {
    "scrolled": true,
    "tags": []
   },
   "outputs": [
    {
     "name": "stdout",
     "output_type": "stream",
     "text": [
      "tf.Tensor([99], shape=(1,), dtype=int64)\n",
      "tf.Tensor([12.364], shape=(1,), dtype=float32)\n",
      "tf.Tensor([b'test'], shape=(1,), dtype=string)\n",
      "tf.Tensor(\n",
      "[[1 9 9 8]\n",
      " [5 2 5 8]], shape=(2, 4), dtype=int32)\n",
      "tf.Tensor([b'\\x89PNG\\r\\n\\x1a\\n\\x00\\x00\\x00\\rIHDR\\x00\\x00\\x00\\x1c\\x00\\x00\\x00\\x1c\\x08\\x02\\x00\\x00\\x00\\xfdoH\\xc3\\x00\\x00\\x06\\\\IDATx\\x9cmV\\xdfo\\x14\\xe7\\x15=\\xdf\\x8f\\x99ov\\xd73\\xbb\\xd8^c/;f\\x89\\x1d(6$)\\xa9T\\xe0\\x01\\x1a\"RWU\\xa3\\xa4*\\xf4\\xc9\\xea\\x13o}\\xe8?\\xd0?\\xa2\\xcf\\xc9C$\\xde@\\xaaT!\\xa5 \\xb7M\\xd5J\\xd0>PR\\xc0\\xa2\\xc0\\x82\\rk\\xaf\\xb1w\\xed\\xf5\\xcc\\xeez\\xe7\\xe7w\\xfb0\\x8eqH\\xaeF\\x9a\\x19it\\xbes\\xee=\\xe7j\\xd8\\xe7\\x7f\\xf8\\x10\\xfb\\xea\\xd2\\xfc\\x02\\x00)\\xd9\\xad\\x1b\\xbfm\\xbfz\\xc0\\xb9A\\x00\\x83\\xd6 \\xd2\\xd1\\xf8\\xd4\\xcf[/\\xfeV\\x9e\\xf8a\\xb3q\\xdb\\xe09p\\xc4b{\\xeeg_\\x94GN\\xa4\\x9a\\xf6@$\\x00\\xdbq\\x01(\\xe5\\x9c|\\xffJ\\x14\\xfaB\\x9a\\x9b\\xad\\'\\xa61$\\xa4\\xa5u\\xc2\\x18\\x08Zp\\x9e;P\\xddj\\xde\\x16\\xd2j\\xbf\\xfa\\xafi\\x14H\\xa7BZc\\xe5\\xf3\\x82\\xc9T\\'\\x80\\x08C\\xbf\\xeb7\\xbe\\xba\\xf9;yi~\\xa1\\xd9\\xb8\\xdd\\\\\\xb9sdz\\xae0TIu\\xd2\\xf3\\x9a\\xcb\\xf5\\xbfz\\x9d%\"\\x02H\\xc8\\xbce9$R\\x1d\\xa7\\xa4\\xe34\\x89I\\'\\x8cK\\x80\\t\\x91\\x1f\\x1d{\\xd70\\x1c\\xc6D\\x10\\xf8]\\xbf\\xf1\\xe0\\xeeg\\xbbLG\\xc6N\\xd8E\\x17\\x00\\x90z\\xde\\xca\\xa3\\x87\\xd7{\\x9dz\\x14vI\\'B\\x9aV\\xee@\\xc5=m\\xe5\\x9c\\xc7\\x8b\\x7fd\\x90B0\\r\\xaeu\\n\\xc6\\xb8!\\r3\\xa7,3S\\xbd\\\\\\xbf\\x99=\\xf0\\xec\\x16\\x86\\xfe\\xe3\\xc5k\\xed\\x8d\\xc5\\xf6\\xc6C\\xafS\\xdf\\xe9o\\xa6i\\xc4\\xb8T\\x96\\xe3\\xd6\\xce\\x1f~\\xeb\\'\\xfe\\xf6\\x8aS\\x9c\\xcc\\x17\\xcac\\xe3\\xef\\t\\xa9\\x18\\xa05\\x18E\\xb6\\xdd\\x8e\\xa2 \\x03\\xa9M\\xcf\\xd9E\\xf7\\xd2\\xfc\\x82\\x04\\x90\\xd1\\x8e\\xa2nk\\xfd\\x01iMI\\xc08@``\\x07\\x86\\x8fV\\xdd\\xd3\\x965:u\\xf4\\x17\\xcf\\x9e\\xdc8\\xfc\\xd6\\x85\\xf5\\xb5\\xaf\\x01\\x02c\\x923C\\x9a\\xcd\\x95\\xcd\\xb1\\x83\\x06\\x11\\x94r\\xe0\\xb8\\'O]\\xd9\\x95\\xffx\\xf1Z\\x14\\xf9q\\xdc\\x13\\xc2\\xdc\\xe9\\xb7\\x884c\\xcc0\\x87\\xf2\\xb9\\xd1\\x91\\xe1\\xa3\\xf9\\xc2A+?\\xca\\xb913\\xf3\\xab\\xd5\\x97\\xb7\\xbd\\xf6\\x13\\xd2)\\x18\\xb808\\xb7\\'ksZ[\\x02\\xc8F\\xfdZ~\\xd7kD<tg>\\xa0\\x9c\\x02\\x07@\\x00L\\xcb~{\\xe6Sw\\xea\\x82\\x90y\\x02\\x94\\xb2\\x93\\xa0\\xe75\\xee\\x05\\xc1v\\xaac\\x00\\x9c\\x1b\\xc3\\xc3\\xc7s\\xb9\\x11\\xf3\\x1b\\xac\\xbd\\xe2\\xd7\\xaf^d\\x00\\x8aN\\xa3\\x18\\xf4LMZJi\\xe5\\x87\\xca#\\xe5c\\xc3\\xe5\\x1f\\x14\\xec\\x8a4\\xf2 \\x84\\xa1\\xb7\\xd3_\\xebD\\xad4\\t\\x18\\xe3\\x0c\\x0c\\xc4\\x850\\xb80\\xf1\\x9d\\xe2\\x19\\xed\\x99\\xe3\\xbf\\xde\\x1aJs\\xea\\x84i\\xda\\x9c\\xcbC\\xd5\\xb3G\\x8f\\xff2\\x97\\x1f\\xd9\\xfb\\x8e\\xed\\x0cV\\x97\\xff\\xa5\\x83@3\\x06\\x801a\\xe5J\\xdc,\\xe94\\x0eC?\\x0c\\xfd7AO\\x9e\\xbaRr\\xa6.\\xf2O\\xdc\\xb1\\x1a\\x00\\xcb*9\\xc5I\\xa78\\xa9T\\x11`\\x00@\\xa0~\\xff`\\x8b\\xd1`\\'\\xcb\\r\\x97F\\xc19T\\x1e;\\xd2\\xeb\\xb7\\xef\\xdf\\xfd\\xac\\xeb7\\xf6\\xe3\\xf2K\\xf3\\x0bCE\\xd7\\xa6\\xa21\\x08\\xb6\\xea\\xffP\\xca\\xca\\xdb\\xe3\\xe5\\x83\\xb3\\x8c\\x99\\xf4:x\\xa4Tb\\xaaD\\x9aq\\xf6n*\\'o\\xdbi\\x1a=\\xba\\x7f\\xb5\\xeb5\\xf6\\x1c\\xfa-\\xf9\\x00\\x96\\xeb\\xb7\\x18c\\xca*\\xcd\\xbc3\\xaf\\xacr\\x12\\x0f\\xf6t1\\x86\\xc8\\x8c\\x93\\xd9\\x97\\xa9$\\x1025cc?Zy\\xf1\\xcf\\x0c\\xa5R=\\x13\\x85\\xde\\x1e\\xd9]\\xf3Sf]\\xc7=\\xf9\\xfe\\x95!\\xc7%\\xc0\\xf7\\x1b\\x0f\\xfe\\xb3\\xab+\\x0c\\xfd^\\xd2y\\xbaL\\x91H\\xb3\\x96&I\\xa8\\xd3d\\xb2\\xf6\\xa1\\xed\\xb8\\xc7f/g\\xbe\\xec\\xf9\\x8d^o\\xf55\\xa8R\\x8e\\xed\\xb8\\'O]\\xc9\\x96K\\x16\\x87\\xfd\\xba\\x9e?\\xbd\\x1b\\x062\\n\\xe5.\\x07\\xa2\\xf6\\xc6C\\xbb\\xf8\\x1a\\xb1\\xeb5\\x96\\xea7\\x93\\xb8\\xf7\\xe5\\xad\\xcb\\x1c@\\xc6E)\\'\\xbb\\xb0/\\xc5\\xb5\\xe99\\x00D\\x98\\xa8\\x9ey\\xdd`2\\x08\\xc6D\\xf5\\x9c\\xa9\\x8a\\xa6*6W\\xee\\x00\\x00\\x83{\\xf8\\\\\\xaf\\xb7fj\\x9bg\\x10]\\xbf\\xd1n-\\xb6[\\x8b]\\xbf\\x11\\x85^mz\\xce\\xb4\\x8a\\xc7f/g\\xc7p\\xce9\\x18c<\\x83\\xd4$I\\xbcm\\x98\\xa3\\x99&\\xdbq\\xc3\\xd0\\x9f\\xac]\\xd0:\\xdcX\\xbd\\xb7\\xde\\\\\\x94\\x00*\\xee\\x99\\xa5}\\xe3\\xab\\xb8g\\xa3\\xc0\\xabT\\xcf,=\\xbbud\\xea\\xa7Q\\xe8\\xc7Qw\\xf9\\xe9\\x9f\\xc2A\\x87\\x88\\x18@ZG\\xa1\\xdf\\xf5\\x1b\\x9c\\xef4\\x1b\\xb7\\xa3\\xd0\\x1f\\x1d\\x9b\\xdd\\xee\\xd4\\xa3`\\xb4\\xf5\\xea\\xbea\\x14\\x98\\xb7\\xa5\\xc3\\xd0\\xcff\\x17\\x05^\\x18\\xfa\\x99\\xf6\\xac!\\xa6Ut\\x9cj\\xbf\\xb7\\xd6\\xf5\\x1a\\xbe\\xd7Hu\\x02\\x90a\\x0e\\xdbEW\\xa9R.W\\xa8T\\xcf\\x12d\\x14\\xfaq\\xdc\\xdd\\\\\\xbf\\xb7\\xbev/\\x8awd6%\\xa5\\x1c3\\xf4\\xbb\\xc0\\xe3\\xc5k\\xd9\\x19\\xa6*\\x0282=\\xc7\\xb9\\x99\\xeb6;\\x9d\\x97\\xa9N\\x89\\xc80\\xf3y\\xa7\\xe4\\xd6\\xce@\\xeb\\xac\\x9b\\xa6*\\xbdx\\xf9t\\xc7\\xbb\\x13\\x0e\\xdaZ\\xa7\\x8c \\xf7\\x9b6\\xe3\\xa8\\x94sl\\xf6\\xf2fk\\xb16=\\xe7\\x14]\"\\xdd\\\\{\\x12\\'\\t\\x03\\xc0 \\x84\\xaaL\\x9c\\xce\\xe5\\x0f\\xd4\\x1f\\xdd`\\x8c\\xbdx\\xbe0^=\\xe7\\xb5\\xef\\xf8^\\x9d#\\x061\\x80}\\x0b\\xb46=\\xb7\\\\\\xbfY\\x9b\\x9eS\\xca\\xa9\\xb8g\\xb3\\x03z\\xddf\\x9al&\\xb1O )s\\xb6sh\\xc8\\x9eXk\\xfc\\x9b1\\x96&\\xc1\\xf8\\xc4{\\x8d\\xfa\\x97\\xe1\\xa0\\tJv3\\x9d\\xed\\xd3=?\\xedmY\\xb5o\\x9b1\\x96\\n\\x8a\\x04\\xa3\\x04$\\xa4\\x1a-\\xcf8\\xc5\\xea\\x90}\\xe8\\xc5\\xd2_\\x0e\\xb9?n\\xad|\\xdd\\xef5\\xa3\\xd0g \\x02L\\xd3N\\xe2>\\xbf~\\xf5\\xe2\\xde:\\xd8o\\xd5}\\xae\\x84\\xe0\\x00\\xa5 \\xe2L\\x18fa\\xc8\\xa9\\x94\\x0e\\x1c9\\xf1\\xeeo\\xa4\\xb0\\xc2\\xa4?\\x18l\\x81R\\x10\\xa4\\xcc\\xe5\\x0b\\xe5\\x8f>\\xfe\\x9c\\xef\\xb7\\xfaw+M\\x83(\\xf2\\xfa\\x83n\\x1cG\\xa45\\xa0\\x01\\r\"B\\x1a\\x86\\x9d\\x8dW\\xf7[\\xeb\\x0f4R0\\x0e\\x90\\xe0\\xd2\\xad\\x9d\\x1f.\\x1f\\x96{\\xb1\\xf9\\x9eb\\xe0i\\xbc\\xbd\\xf6\\xa8\\xd7\\xaa\\xb3\\x94\\x88\\xb1\\x94(%\\x8a\\x93^\\x10x\\x8b\\xf7\\xbf\\xe8oo\\x04\\x03_\\'\\t\\x17\\x86\\xa9\\xec\\x92s\\xb8T\\xaa\\x01\\x90\\x97\\xe6\\x17\\xb2\\x9e~\\x1f&\"\\x1d\\xd9}\\xe4\\x06z\\x1b\\x11\\x814\\x10\\xc6;\\xbd\\xde\\xab\\xe5\\xe7\\x7f\\xde\\xde\\\\\\x0e\\x07>\\x83`\\x8c+\\xe5\\x94\\x0f\\xbest\\xe6\\x93|a<\\x89I\\xbe1\\x967\\xba\\x99+\\x8c\\xae\\x8e\\xab\\xb5\\xfa*\\xa5\\\\p\\xb1\\xddY:\\x96\\x1f\\xfe\\xdf\\x93\\xbf\\xaf?\\xfb\\n\\xdc`\\x8c\\x83@\\x94\\n\\xf0\\xb3\\x1f\\xfc^\\x7f\\xf3\\xe7\\xf3\\x7f\\x82\\x07i\\x08\\xe0\\x92%\\xb4\\x00\\x00\\x00\\x00IEND\\xaeB`\\x82'], shape=(1,), dtype=string)\n"
     ]
    }
   ],
   "source": [
    "for parsed_record in parsed_dataset.batch(10):\n",
    "    print(parsed_record[\"Int\"])\n",
    "    print(parsed_record[\"Float\"])\n",
    "    print(parsed_record[\"String\"])\n",
    "    npb = parsed_record[\"Ndarray\"]\n",
    "    npb = tf.io.decode_raw(npb,tf.int32)  # 注意dtype\n",
    "    print(tf.reshape(npb,(2,4)))\n",
    "    print(parsed_record[\"Image_raw\"])\n",
    "    # open(\"test2.png\",\"wb\").write(parsed_record[\"Image\"].numpy()[0])"
   ]
  },
  {
   "cell_type": "code",
   "execution_count": null,
   "id": "eac272e2-a474-45af-babe-5e5ee311e500",
   "metadata": {},
   "outputs": [],
   "source": []
  }
 ],
 "metadata": {
  "kernelspec": {
   "display_name": "Python 3 (ipykernel)",
   "language": "python",
   "name": "python3"
  },
  "language_info": {
   "codemirror_mode": {
    "name": "ipython",
    "version": 3
   },
   "file_extension": ".py",
   "mimetype": "text/x-python",
   "name": "python",
   "nbconvert_exporter": "python",
   "pygments_lexer": "ipython3",
   "version": "3.8.12"
  }
 },
 "nbformat": 4,
 "nbformat_minor": 5
}
