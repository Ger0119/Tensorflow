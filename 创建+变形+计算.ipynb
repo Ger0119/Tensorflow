{
 "cells": [
  {
   "cell_type": "code",
   "execution_count": 1,
   "id": "d3f13ae1-95ea-4861-b687-81fed5521c78",
   "metadata": {},
   "outputs": [],
   "source": [
    "import tensorflow as tf\n",
    "import numpy as np"
   ]
  },
  {
   "cell_type": "markdown",
   "id": "bef78629-c1f7-48ee-9d71-854154c72a77",
   "metadata": {
    "tags": []
   },
   "source": [
    "# 创建"
   ]
  },
  {
   "cell_type": "markdown",
   "id": "aedc93c8-b76e-4951-844e-07d88ca505ef",
   "metadata": {
    "tags": []
   },
   "source": [
    "## From Numpy List"
   ]
  },
  {
   "cell_type": "markdown",
   "id": "d934b928-a9f9-4f11-afd6-40d0f252e40a",
   "metadata": {},
   "source": [
    "|函数|说明|\n",
    "|:----|:----|\n",
    "|tf.constant()|将对象转换为tensor|\n",
    "|tf.convert_to_tensor()|同上|"
   ]
  },
  {
   "cell_type": "code",
   "execution_count": 2,
   "id": "82e74af4-8663-46fd-8d1b-95b94cb036ba",
   "metadata": {},
   "outputs": [
    {
     "data": {
      "text/plain": [
       "<tf.Tensor: shape=(2, 3), dtype=float64, numpy=\n",
       "array([[1., 1., 1.],\n",
       "       [1., 1., 1.]])>"
      ]
     },
     "execution_count": 2,
     "metadata": {},
     "output_type": "execute_result"
    }
   ],
   "source": [
    "tf.convert_to_tensor(np.ones([2,3]))"
   ]
  },
  {
   "cell_type": "code",
   "execution_count": 3,
   "id": "2258d42c-b1a1-451b-82d6-0db3022e54c1",
   "metadata": {},
   "outputs": [
    {
     "data": {
      "text/plain": [
       "<tf.Tensor: shape=(2,), dtype=float32, numpy=array([1., 2.], dtype=float32)>"
      ]
     },
     "execution_count": 3,
     "metadata": {},
     "output_type": "execute_result"
    }
   ],
   "source": [
    "tf.constant([1,2.])"
   ]
  },
  {
   "cell_type": "markdown",
   "id": "958af0f6-93da-4728-9ec1-dc08295ff07b",
   "metadata": {
    "tags": []
   },
   "source": [
    "## From TF"
   ]
  },
  {
   "cell_type": "markdown",
   "id": "fb979f57-ebf7-414a-b000-c1b6850f2aa2",
   "metadata": {},
   "source": [
    "|函数|说明|\n",
    "|:----|:----|\n",
    "|tf.zeros([shape])|创建shape的全0 Tensor|\n",
    "|tf.zeros_like([Tensor])|获取Tensor的shape 创建全0 Tensor|\n",
    "|tf.ones([shape])|创建shape的全1 Tensor|\n",
    "|tf.ones_like([Tensor])|获取Tensor的shape 创建1 Tensor|\n",
    "|tf.fill([shape],[n])|创建shape的Tensor 以n填充|\n",
    "|tf.range([n])|同range|\n",
    "|tf.random.normal([shape],mean=[mean],stddev=[stddev])|创建shape的Tensor 随机填充|\n",
    "|tf.random.truncated_normal([shape],mean=[mean],stddev=[stddev])|截断的数据|\n",
    "|tf.random.uniform([shape],minval=[minval],maxval=[maxval])|均匀分布|\n",
    "|tf.random.shuffle([Tensor])|打乱 洗牌|"
   ]
  },
  {
   "cell_type": "code",
   "execution_count": 4,
   "id": "e14d34f6-8b18-47f9-8969-28fc04f795e3",
   "metadata": {},
   "outputs": [
    {
     "data": {
      "text/plain": [
       "<tf.Tensor: shape=(2, 2), dtype=float32, numpy=\n",
       "array([[-0.7269063 , -0.20977914],\n",
       "       [-0.6060593 ,  2.0158367 ]], dtype=float32)>"
      ]
     },
     "execution_count": 4,
     "metadata": {},
     "output_type": "execute_result"
    }
   ],
   "source": [
    "tf.random.normal([2,2],mean=1,stddev=1)"
   ]
  },
  {
   "cell_type": "code",
   "execution_count": 5,
   "id": "e297f699-b3ee-43a3-b972-383e0178966c",
   "metadata": {},
   "outputs": [
    {
     "data": {
      "text/plain": [
       "<tf.Tensor: shape=(2, 2), dtype=float32, numpy=\n",
       "array([[-0.1838137 ,  0.25277877],\n",
       "       [-0.4281667 , -1.9225777 ]], dtype=float32)>"
      ]
     },
     "execution_count": 5,
     "metadata": {},
     "output_type": "execute_result"
    }
   ],
   "source": [
    "tf.random.truncated_normal([2,2],mean=0,stddev=1)"
   ]
  },
  {
   "cell_type": "code",
   "execution_count": 6,
   "id": "c9d280ef-70b2-4988-9f63-ccfdb2c4a271",
   "metadata": {},
   "outputs": [
    {
     "data": {
      "text/plain": [
       "<tf.Tensor: shape=(2, 2), dtype=float32, numpy=\n",
       "array([[0.93980443, 0.63926625],\n",
       "       [0.64218485, 0.6706773 ]], dtype=float32)>"
      ]
     },
     "execution_count": 6,
     "metadata": {},
     "output_type": "execute_result"
    }
   ],
   "source": [
    "tf.random.uniform([2,2],minval=0,maxval=1) "
   ]
  },
  {
   "cell_type": "markdown",
   "id": "f2a1e366-99a3-42e3-bc50-f7a630c06911",
   "metadata": {
    "tags": []
   },
   "source": [
    "## Loss"
   ]
  },
  {
   "cell_type": "code",
   "execution_count": 7,
   "id": "4d050488-f938-4e16-a7bb-3680c7cab546",
   "metadata": {},
   "outputs": [],
   "source": [
    "y = tf.range(4)\n",
    "y = tf.one_hot(y,depth=10)\n",
    "out = tf.random.uniform([4,10])\n",
    "loss = tf.keras.losses.mse(y,out)"
   ]
  },
  {
   "cell_type": "code",
   "execution_count": 8,
   "id": "913b1b96-ee63-4070-8792-afad7f2a8cbd",
   "metadata": {},
   "outputs": [
    {
     "data": {
      "text/plain": [
       "<tf.Tensor: shape=(4,), dtype=float32, numpy=array([0.32718024, 0.28491095, 0.4561185 , 0.16287963], dtype=float32)>"
      ]
     },
     "execution_count": 8,
     "metadata": {},
     "output_type": "execute_result"
    }
   ],
   "source": [
    "loss"
   ]
  },
  {
   "cell_type": "code",
   "execution_count": 9,
   "id": "cbde0b2a-f575-480f-8f51-0da9af13ae29",
   "metadata": {},
   "outputs": [
    {
     "data": {
      "text/plain": [
       "0.3077723"
      ]
     },
     "execution_count": 9,
     "metadata": {},
     "output_type": "execute_result"
    }
   ],
   "source": [
    "loss.numpy().mean()"
   ]
  },
  {
   "cell_type": "code",
   "execution_count": 10,
   "id": "40468f9e-063c-4ef5-8ac9-7c56dc943218",
   "metadata": {},
   "outputs": [
    {
     "data": {
      "text/plain": [
       "<tf.Tensor: shape=(), dtype=float32, numpy=0.30777234>"
      ]
     },
     "execution_count": 10,
     "metadata": {},
     "output_type": "execute_result"
    }
   ],
   "source": [
    "tf.reduce_mean(loss)"
   ]
  },
  {
   "cell_type": "markdown",
   "id": "51726a35-91ad-4981-8b5a-2b4967b213aa",
   "metadata": {
    "tags": []
   },
   "source": [
    "## Vector"
   ]
  },
  {
   "cell_type": "code",
   "execution_count": 11,
   "id": "b5c35259-c625-42ef-8865-c0e1d7921d31",
   "metadata": {},
   "outputs": [
    {
     "data": {
      "text/plain": [
       "TensorShape([8, 10])"
      ]
     },
     "execution_count": 11,
     "metadata": {},
     "output_type": "execute_result"
    }
   ],
   "source": [
    "net = tf.keras.layers.Dense(10)\n",
    "net.build((4,8))\n",
    "net.kernel.shape"
   ]
  },
  {
   "cell_type": "code",
   "execution_count": 12,
   "id": "77c3a686-2448-4484-96f3-376122d060a8",
   "metadata": {},
   "outputs": [
    {
     "data": {
      "text/plain": [
       "<tf.Variable 'bias:0' shape=(10,) dtype=float32, numpy=array([0., 0., 0., 0., 0., 0., 0., 0., 0., 0.], dtype=float32)>"
      ]
     },
     "execution_count": 12,
     "metadata": {},
     "output_type": "execute_result"
    }
   ],
   "source": [
    "net.bias"
   ]
  },
  {
   "cell_type": "markdown",
   "id": "f299b83d-b1ab-40af-8675-83ff04e470f1",
   "metadata": {
    "tags": []
   },
   "source": [
    "## Matrix"
   ]
  },
  {
   "cell_type": "code",
   "execution_count": 13,
   "id": "c995a463-b431-477a-9ba5-f46d93e8fe38",
   "metadata": {},
   "outputs": [
    {
     "data": {
      "text/plain": [
       "TensorShape([4, 784])"
      ]
     },
     "execution_count": 13,
     "metadata": {},
     "output_type": "execute_result"
    }
   ],
   "source": [
    "x = tf.random.normal([4,784])\n",
    "x.shape"
   ]
  },
  {
   "cell_type": "code",
   "execution_count": 14,
   "id": "0722311c-01e2-4553-9824-2d9cfd1c1923",
   "metadata": {},
   "outputs": [
    {
     "data": {
      "text/plain": [
       "TensorShape([4, 10])"
      ]
     },
     "execution_count": 14,
     "metadata": {},
     "output_type": "execute_result"
    }
   ],
   "source": [
    "net = tf.keras.layers.Dense(10)\n",
    "net.build((4,784))\n",
    "\n",
    "net(x).shape"
   ]
  },
  {
   "cell_type": "code",
   "execution_count": 15,
   "id": "346e0ae4-a812-4367-8e2d-1b8b080ebe92",
   "metadata": {},
   "outputs": [
    {
     "data": {
      "text/plain": [
       "TensorShape([784, 10])"
      ]
     },
     "execution_count": 15,
     "metadata": {},
     "output_type": "execute_result"
    }
   ],
   "source": [
    "net.kernel.shape"
   ]
  },
  {
   "cell_type": "code",
   "execution_count": 16,
   "id": "7e837d5a-de51-4ce2-a211-6b4bc13021fd",
   "metadata": {},
   "outputs": [
    {
     "data": {
      "text/plain": [
       "TensorShape([10])"
      ]
     },
     "execution_count": 16,
     "metadata": {},
     "output_type": "execute_result"
    }
   ],
   "source": [
    "net.bias.shape"
   ]
  },
  {
   "cell_type": "code",
   "execution_count": 17,
   "id": "6dd8feb0-69ef-488b-a84a-24f528c8791f",
   "metadata": {},
   "outputs": [
    {
     "data": {
      "text/plain": [
       "TensorShape([4, 26, 26, 16])"
      ]
     },
     "execution_count": 17,
     "metadata": {},
     "output_type": "execute_result"
    }
   ],
   "source": [
    "x = tf.random.normal([4,28,28,3])\n",
    "net = tf.keras.layers.Conv2D(16,kernel_size=3)\n",
    "net(x).shape"
   ]
  },
  {
   "cell_type": "markdown",
   "id": "9f73334b-802a-433c-b31f-70433151bf45",
   "metadata": {
    "tags": []
   },
   "source": [
    "# 变形"
   ]
  },
  {
   "cell_type": "markdown",
   "id": "7e2e2896-2514-4fac-8488-31252e0ffdd1",
   "metadata": {},
   "source": [
    "|函数|说明|\n",
    "|:----|:----|\n",
    "|tf.gather([Tensor],axis=[axis],indices=[indices])|索引|\n",
    "|tf.gather_nd([Tensor],indices=[indices])|索引|\n",
    "|tf.boolean_mask([Tensor],mask=[True,False,...],axis=[axis])|根据mask在axis轴进行mask|\n",
    "|tf.reshape([Tensor],[shape])|改变Tensor的shape|\n",
    "|tf.transpose([Tensor])|将Tensor转至|\n",
    "|tf.expand_dims([Tensor],axis=[axis])|增加维度|\n",
    "|tf.squeeze([Tensor])|删除值为1的维度|\n",
    "|tf.broadcast_to([Tensor],[shape])|将Tensor广播至shape|\n",
    "|tf.title([Tensor],[multiples])|Tensor沿axis铺(复制)multiples倍|"
   ]
  },
  {
   "cell_type": "markdown",
   "id": "9df3395e-1226-49f1-b12b-5be75d4a428b",
   "metadata": {},
   "source": [
    "## tf.gather"
   ]
  },
  {
   "cell_type": "code",
   "execution_count": 18,
   "id": "a13c8ec7-97bb-4312-8a55-2a7c909ce716",
   "metadata": {},
   "outputs": [],
   "source": [
    "a = tf.random.uniform((4,35,8),minval=0,maxval=10,dtype=tf.int32)"
   ]
  },
  {
   "cell_type": "code",
   "execution_count": 19,
   "id": "ae41da2d-c3ed-4b62-8320-685106c15f7a",
   "metadata": {},
   "outputs": [
    {
     "data": {
      "text/plain": [
       "TensorShape([2, 35, 8])"
      ]
     },
     "execution_count": 19,
     "metadata": {},
     "output_type": "execute_result"
    }
   ],
   "source": [
    "tf.gather(a,indices=[2,3]).shape"
   ]
  },
  {
   "cell_type": "code",
   "execution_count": 20,
   "id": "611f684c-8841-4315-94eb-f2106664b681",
   "metadata": {},
   "outputs": [
    {
     "data": {
      "text/plain": [
       "TensorShape([8])"
      ]
     },
     "execution_count": 20,
     "metadata": {},
     "output_type": "execute_result"
    }
   ],
   "source": [
    "tf.gather_nd(a,indices=[2,3]).shape"
   ]
  },
  {
   "cell_type": "markdown",
   "id": "8e6f7b26-c669-4bef-9e76-9ec56a31aa8c",
   "metadata": {},
   "source": [
    "## tf.boolean_mask"
   ]
  },
  {
   "cell_type": "code",
   "execution_count": 21,
   "id": "2abb6a31-e28c-4532-8850-0febaeb3dfb6",
   "metadata": {},
   "outputs": [
    {
     "data": {
      "text/plain": [
       "TensorShape([2, 35, 8])"
      ]
     },
     "execution_count": 21,
     "metadata": {},
     "output_type": "execute_result"
    }
   ],
   "source": [
    "tf.boolean_mask(a,mask=[True,True,False,False],axis=0).shape"
   ]
  },
  {
   "cell_type": "code",
   "execution_count": 22,
   "id": "749802b2-9d30-4aff-83c6-992d37766cd7",
   "metadata": {},
   "outputs": [
    {
     "data": {
      "text/plain": [
       "TensorShape([4, 35, 4])"
      ]
     },
     "execution_count": 22,
     "metadata": {},
     "output_type": "execute_result"
    }
   ],
   "source": [
    "tf.boolean_mask(a,mask=[True,True,False,False,True,True,False,False],axis=2).shape"
   ]
  },
  {
   "cell_type": "markdown",
   "id": "6a7d8449-813f-4611-8090-16d7aab63f80",
   "metadata": {},
   "source": [
    "## tf.reshape"
   ]
  },
  {
   "cell_type": "code",
   "execution_count": 23,
   "id": "d0ce574a-bf0b-4cb2-8e83-0f1e5dcaeb55",
   "metadata": {},
   "outputs": [
    {
     "data": {
      "text/plain": [
       "(TensorShape([4, 28, 28, 3]), 4)"
      ]
     },
     "execution_count": 23,
     "metadata": {},
     "output_type": "execute_result"
    }
   ],
   "source": [
    "img = tf.random.normal([4,28,28,3])\n",
    "img.shape, img.ndim"
   ]
  },
  {
   "cell_type": "code",
   "execution_count": 24,
   "id": "ab2b28a7-e4f4-40f1-b670-1d25f59a0293",
   "metadata": {},
   "outputs": [
    {
     "data": {
      "text/plain": [
       "TensorShape([4, 784, 3])"
      ]
     },
     "execution_count": 24,
     "metadata": {},
     "output_type": "execute_result"
    }
   ],
   "source": [
    "tf.reshape(img,[4,28*28,3]).shape"
   ]
  },
  {
   "cell_type": "code",
   "execution_count": 25,
   "id": "05c75847-1f93-4935-be13-60367d0d26b7",
   "metadata": {},
   "outputs": [
    {
     "data": {
      "text/plain": [
       "TensorShape([4, 784, 3])"
      ]
     },
     "execution_count": 25,
     "metadata": {},
     "output_type": "execute_result"
    }
   ],
   "source": [
    "tf.reshape(img,[4,-1,3]).shape"
   ]
  },
  {
   "cell_type": "code",
   "execution_count": 26,
   "id": "467da6c1-6705-47a3-b1f8-b6f9a2a9d532",
   "metadata": {},
   "outputs": [
    {
     "data": {
      "text/plain": [
       "TensorShape([4, 2352])"
      ]
     },
     "execution_count": 26,
     "metadata": {},
     "output_type": "execute_result"
    }
   ],
   "source": [
    "tf.reshape(img,[4,-1]).shape"
   ]
  },
  {
   "cell_type": "markdown",
   "id": "85109aba-43b1-4a5c-a326-3547f05d9b0f",
   "metadata": {},
   "source": [
    "## tf.expand_dims"
   ]
  },
  {
   "cell_type": "code",
   "execution_count": 27,
   "id": "aca66c3f-1892-428e-8c05-422d6e30614f",
   "metadata": {},
   "outputs": [],
   "source": [
    "a = tf.random.normal([4,35,8])"
   ]
  },
  {
   "cell_type": "code",
   "execution_count": 28,
   "id": "49e4de5f-8496-497a-a7f4-3b21b2586cda",
   "metadata": {},
   "outputs": [
    {
     "data": {
      "text/plain": [
       "TensorShape([1, 4, 35, 8])"
      ]
     },
     "execution_count": 28,
     "metadata": {},
     "output_type": "execute_result"
    }
   ],
   "source": [
    "tf.expand_dims(a,axis=0).shape"
   ]
  },
  {
   "cell_type": "code",
   "execution_count": 29,
   "id": "065ca467-01a2-4986-a42e-becbec78c763",
   "metadata": {},
   "outputs": [
    {
     "data": {
      "text/plain": [
       "TensorShape([4, 35, 8, 1])"
      ]
     },
     "execution_count": 29,
     "metadata": {},
     "output_type": "execute_result"
    }
   ],
   "source": [
    "tf.expand_dims(a,axis=3).shape"
   ]
  },
  {
   "cell_type": "markdown",
   "id": "4380a269-1f10-4b8c-b9bc-4b909650dcec",
   "metadata": {},
   "source": [
    "## Broadcasting"
   ]
  },
  {
   "cell_type": "code",
   "execution_count": 30,
   "id": "cc03173b-9bf3-4f77-a466-d2a05f0d1012",
   "metadata": {},
   "outputs": [],
   "source": [
    "a = tf.random.uniform((2,3,3),minval=1,maxval=10,dtype=tf.int32)\n",
    "b = tf.random.uniform((3,3),minval=1,maxval=3,dtype=tf.int32)"
   ]
  },
  {
   "cell_type": "code",
   "execution_count": 31,
   "id": "b58d35bc-63a1-48b8-97a6-cbf584c99d75",
   "metadata": {},
   "outputs": [
    {
     "data": {
      "text/plain": [
       "(TensorShape([2, 3, 3]), TensorShape([3, 3]))"
      ]
     },
     "execution_count": 31,
     "metadata": {},
     "output_type": "execute_result"
    }
   ],
   "source": [
    "a.shape, b.shape"
   ]
  },
  {
   "cell_type": "code",
   "execution_count": 32,
   "id": "668b3502-bbe2-42da-9591-dff48eef1939",
   "metadata": {},
   "outputs": [
    {
     "data": {
      "text/plain": [
       "TensorShape([2, 3, 3])"
      ]
     },
     "execution_count": 32,
     "metadata": {},
     "output_type": "execute_result"
    }
   ],
   "source": [
    "tf.broadcast_to(b,a.shape).shape  # 高效  使用更小的内存"
   ]
  },
  {
   "cell_type": "code",
   "execution_count": 33,
   "id": "5f3a71fe-0abe-4c59-b8a3-923fe6cddc76",
   "metadata": {},
   "outputs": [
    {
     "data": {
      "text/plain": [
       "TensorShape([2, 3, 3])"
      ]
     },
     "execution_count": 33,
     "metadata": {},
     "output_type": "execute_result"
    }
   ],
   "source": [
    "tf.tile(tf.expand_dims(b,axis=0),[2,1,1]).shape"
   ]
  },
  {
   "cell_type": "code",
   "execution_count": 34,
   "id": "c3ddc363-7321-4100-8b78-41cca3c16b83",
   "metadata": {},
   "outputs": [
    {
     "data": {
      "text/plain": [
       "TensorShape([6, 3])"
      ]
     },
     "execution_count": 34,
     "metadata": {},
     "output_type": "execute_result"
    }
   ],
   "source": [
    "tf.tile(b,[2,1]).shape"
   ]
  },
  {
   "cell_type": "markdown",
   "id": "572aa647-9f72-4483-885a-4c92e9f8b540",
   "metadata": {
    "tags": []
   },
   "source": [
    "# 计算"
   ]
  },
  {
   "cell_type": "markdown",
   "id": "7a9b85d8-d2ad-4d5b-8b6e-cb6a1d036550",
   "metadata": {},
   "source": [
    "|函数|说明|\n",
    "|:----|:----|\n",
    "|tf.add([Tensor],[Tensor])/tf.math.add([Tensor],[Tensor])|加减|\n",
    "|tf.pow([Tensor],[n])/tf.math.pow([Tensor],[n])|n乘|\n",
    "|tf.sqrt([Tensor])/tf.math.sqrt([Tensor])|平方根|\n",
    "|tf.math.log([Tensor])|log底数为10|\n",
    "|tf.exp[Tensor])/tf.math.exp([Tensor])|自然底数|\n",
    "|tf.matmul([Tensor],[Tensor])/a@b|点积|"
   ]
  },
  {
   "cell_type": "code",
   "execution_count": 35,
   "id": "96f3e562-f1d5-4f38-9f58-7634c0d2e064",
   "metadata": {},
   "outputs": [],
   "source": [
    "a = tf.fill((2,2),2.)   \n",
    "b = tf.ones([2,2])"
   ]
  },
  {
   "cell_type": "code",
   "execution_count": 36,
   "id": "a970c94a-f8e0-4b1c-a185-5b1ff375f526",
   "metadata": {},
   "outputs": [
    {
     "data": {
      "text/plain": [
       "(<tf.Tensor: shape=(2, 2), dtype=float32, numpy=\n",
       " array([[3., 3.],\n",
       "        [3., 3.]], dtype=float32)>,\n",
       " <tf.Tensor: shape=(2, 2), dtype=float32, numpy=\n",
       " array([[1., 1.],\n",
       "        [1., 1.]], dtype=float32)>,\n",
       " <tf.Tensor: shape=(2, 2), dtype=float32, numpy=\n",
       " array([[2., 2.],\n",
       "        [2., 2.]], dtype=float32)>,\n",
       " <tf.Tensor: shape=(2, 2), dtype=float32, numpy=\n",
       " array([[2., 2.],\n",
       "        [2., 2.]], dtype=float32)>,\n",
       " <tf.Tensor: shape=(2, 2), dtype=float32, numpy=\n",
       " array([[2., 2.],\n",
       "        [2., 2.]], dtype=float32)>,\n",
       " <tf.Tensor: shape=(2, 2), dtype=float32, numpy=\n",
       " array([[1., 1.],\n",
       "        [1., 1.]], dtype=float32)>)"
      ]
     },
     "execution_count": 36,
     "metadata": {},
     "output_type": "execute_result"
    }
   ],
   "source": [
    "a+b , a-b , a*b,a/b ,a//b , b%a # dtype 需要相等"
   ]
  },
  {
   "cell_type": "code",
   "execution_count": 37,
   "id": "7e409100-9e07-4c8f-8d91-6b32fbf0e20b",
   "metadata": {},
   "outputs": [
    {
     "data": {
      "text/plain": [
       "<tf.Tensor: shape=(2, 2), dtype=float32, numpy=\n",
       "array([[0.6931472, 0.6931472],\n",
       "       [0.6931472, 0.6931472]], dtype=float32)>"
      ]
     },
     "execution_count": 37,
     "metadata": {},
     "output_type": "execute_result"
    }
   ],
   "source": [
    "tf.math.log(a)"
   ]
  },
  {
   "cell_type": "code",
   "execution_count": 38,
   "id": "157135a6-a6f5-49d7-82d9-48efd3679108",
   "metadata": {},
   "outputs": [
    {
     "data": {
      "text/plain": [
       "(<tf.Tensor: shape=(2, 2), dtype=float32, numpy=\n",
       " array([[7.389056, 7.389056],\n",
       "        [7.389056, 7.389056]], dtype=float32)>,\n",
       " <tf.Tensor: shape=(2, 2), dtype=float32, numpy=\n",
       " array([[7.389056, 7.389056],\n",
       "        [7.389056, 7.389056]], dtype=float32)>)"
      ]
     },
     "execution_count": 38,
     "metadata": {},
     "output_type": "execute_result"
    }
   ],
   "source": [
    "tf.exp(a),tf.math.exp(a)"
   ]
  },
  {
   "cell_type": "code",
   "execution_count": 39,
   "id": "fdc64872-4f73-4bb7-9a50-18fa6f17e129",
   "metadata": {},
   "outputs": [
    {
     "data": {
      "text/plain": [
       "<tf.Tensor: shape=(), dtype=float32, numpy=3.0>"
      ]
     },
     "execution_count": 39,
     "metadata": {},
     "output_type": "execute_result"
    }
   ],
   "source": [
    "tf.math.log(8.)/tf.math.log(2.)  # 底数为2"
   ]
  },
  {
   "cell_type": "code",
   "execution_count": 40,
   "id": "75bbbca5-2473-46e6-a43f-060c882917ab",
   "metadata": {},
   "outputs": [
    {
     "data": {
      "text/plain": [
       "(<tf.Tensor: shape=(2, 2), dtype=float32, numpy=\n",
       " array([[4., 4.],\n",
       "        [4., 4.]], dtype=float32)>,\n",
       " <tf.Tensor: shape=(2, 2), dtype=float32, numpy=\n",
       " array([[4., 4.],\n",
       "        [4., 4.]], dtype=float32)>,\n",
       " <tf.Tensor: shape=(2, 2), dtype=float32, numpy=\n",
       " array([[4., 4.],\n",
       "        [4., 4.]], dtype=float32)>)"
      ]
     },
     "execution_count": 40,
     "metadata": {},
     "output_type": "execute_result"
    }
   ],
   "source": [
    "tf.pow(a,2), tf.math.pow(a,2),a**2"
   ]
  },
  {
   "cell_type": "code",
   "execution_count": 41,
   "id": "27dd4d1e-90d2-4318-8000-b4c90b6ad74a",
   "metadata": {},
   "outputs": [
    {
     "data": {
      "text/plain": [
       "(<tf.Tensor: shape=(2, 2), dtype=float32, numpy=\n",
       " array([[1.4142134, 1.4142134],\n",
       "        [1.4142134, 1.4142134]], dtype=float32)>,\n",
       " <tf.Tensor: shape=(2, 2), dtype=float32, numpy=\n",
       " array([[1.4142134, 1.4142134],\n",
       "        [1.4142134, 1.4142134]], dtype=float32)>)"
      ]
     },
     "execution_count": 41,
     "metadata": {},
     "output_type": "execute_result"
    }
   ],
   "source": [
    "tf.sqrt(a),tf.math.sqrt(a)"
   ]
  },
  {
   "cell_type": "code",
   "execution_count": 42,
   "id": "6be03eb8-1f2f-4d2e-bfaa-1bac27c3cfff",
   "metadata": {},
   "outputs": [
    {
     "data": {
      "text/plain": [
       "(<tf.Tensor: shape=(2, 2), dtype=float32, numpy=\n",
       " array([[4., 4.],\n",
       "        [4., 4.]], dtype=float32)>,\n",
       " <tf.Tensor: shape=(2, 2), dtype=float32, numpy=\n",
       " array([[4., 4.],\n",
       "        [4., 4.]], dtype=float32)>)"
      ]
     },
     "execution_count": 42,
     "metadata": {},
     "output_type": "execute_result"
    }
   ],
   "source": [
    "tf.matmul(a,b), a@b"
   ]
  },
  {
   "cell_type": "code",
   "execution_count": 43,
   "id": "130d04a7-a4c3-432e-98da-86d9bf060c64",
   "metadata": {},
   "outputs": [],
   "source": [
    "x = tf.ones([4,2])\n",
    "w = tf.ones([2,1])\n",
    "b = tf.constant(0.1)"
   ]
  },
  {
   "cell_type": "code",
   "execution_count": 44,
   "id": "330b34e2-61cd-496d-a2fd-8ff77c3658e4",
   "metadata": {},
   "outputs": [
    {
     "data": {
      "text/plain": [
       "<tf.Tensor: shape=(4, 1), dtype=float32, numpy=\n",
       "array([[2.1],\n",
       "       [2.1],\n",
       "       [2.1],\n",
       "       [2.1]], dtype=float32)>"
      ]
     },
     "execution_count": 44,
     "metadata": {},
     "output_type": "execute_result"
    }
   ],
   "source": [
    "x@w+b"
   ]
  },
  {
   "cell_type": "code",
   "execution_count": 45,
   "id": "ad8682e0-ecee-443b-b9fb-9287cb7c7c55",
   "metadata": {},
   "outputs": [
    {
     "data": {
      "text/plain": [
       "<tf.Tensor: shape=(4, 1), dtype=float32, numpy=\n",
       "array([[2.1],\n",
       "       [2.1],\n",
       "       [2.1],\n",
       "       [2.1]], dtype=float32)>"
      ]
     },
     "execution_count": 45,
     "metadata": {},
     "output_type": "execute_result"
    }
   ],
   "source": [
    "tf.nn.relu(x@w+b)"
   ]
  },
  {
   "cell_type": "code",
   "execution_count": null,
   "id": "0445567d-6d60-4c94-9d12-1dff40331317",
   "metadata": {},
   "outputs": [],
   "source": []
  }
 ],
 "metadata": {
  "kernelspec": {
   "display_name": "Python 3 (ipykernel)",
   "language": "python",
   "name": "python3"
  },
  "language_info": {
   "codemirror_mode": {
    "name": "ipython",
    "version": 3
   },
   "file_extension": ".py",
   "mimetype": "text/x-python",
   "name": "python",
   "nbconvert_exporter": "python",
   "pygments_lexer": "ipython3",
   "version": "3.8.12"
  }
 },
 "nbformat": 4,
 "nbformat_minor": 5
}
